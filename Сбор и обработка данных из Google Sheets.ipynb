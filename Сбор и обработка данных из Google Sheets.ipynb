{
  "nbformat": 4,
  "nbformat_minor": 0,
  "metadata": {
    "colab": {
      "provenance": [],
      "include_colab_link": true
    },
    "kernelspec": {
      "name": "python3",
      "display_name": "Python 3"
    },
    "language_info": {
      "name": "python"
    }
  },
  "cells": [
    {
      "cell_type": "markdown",
      "metadata": {
        "id": "view-in-github",
        "colab_type": "text"
      },
      "source": [
        "<a href=\"https://colab.research.google.com/github/AlbinaAzMikhaylova/-Python/blob/main/%D0%A1%D0%B1%D0%BE%D1%80%20%D0%B8%20%D0%BE%D0%B1%D1%80%D0%B0%D0%B1%D0%BE%D1%82%D0%BA%D0%B0%20%D0%B4%D0%B0%D0%BD%D0%BD%D1%8B%D1%85%20%D0%B8%D0%B7%20Google%20Sheets.ipynb\" target=\"_parent\"><img src=\"https://colab.research.google.com/assets/colab-badge.svg\" alt=\"Open In Colab\"/></a>"
      ]
    },
    {
      "cell_type": "markdown",
      "source": [
        "## 2 кейс\n",
        "\n",
        "**Соберите данные из Google Sheets и напишите функцию `generate_report`, которая принимает три списка (данные с каждого листа в Google Sheets) и сохраняет отчет в файл `student_debt_report.txt`**"
      ],
      "metadata": {
        "id": "kilnMAFvwPlm"
      }
    },
    {
      "cell_type": "markdown",
      "source": [
        "**Важно**\n",
        "\n",
        "Перед началом решения задачи выполните следующую ячейку - в ней скачиваются нужные файлы"
      ],
      "metadata": {
        "id": "Ese_hT_YwxHw"
      }
    },
    {
      "cell_type": "code",
      "execution_count": null,
      "metadata": {
        "id": "84h9WDU8ngRf",
        "colab": {
          "base_uri": "https://localhost:8080/"
        },
        "outputId": "b97bb85e-809c-4a90-d459-584774c22bb0"
      },
      "outputs": [
        {
          "output_type": "stream",
          "name": "stdout",
          "text": [
            "--2025-02-10 03:28:11--  https://gist.github.com/Vs8th/d0bd4bdbbb58c8ae4f70a2a503e2d5fc/raw/creds.json\n",
            "Resolving gist.github.com (gist.github.com)... 140.82.116.3\n",
            "Connecting to gist.github.com (gist.github.com)|140.82.116.3|:443... connected.\n",
            "HTTP request sent, awaiting response... 301 Moved Permanently\n",
            "Location: https://gist.githubusercontent.com/Vs8th/d0bd4bdbbb58c8ae4f70a2a503e2d5fc/raw/creds.json [following]\n",
            "--2025-02-10 03:28:11--  https://gist.githubusercontent.com/Vs8th/d0bd4bdbbb58c8ae4f70a2a503e2d5fc/raw/creds.json\n",
            "Resolving gist.githubusercontent.com (gist.githubusercontent.com)... 185.199.108.133, 185.199.109.133, 185.199.110.133, ...\n",
            "Connecting to gist.githubusercontent.com (gist.githubusercontent.com)|185.199.108.133|:443... connected.\n",
            "HTTP request sent, awaiting response... 200 OK\n",
            "Length: 2358 (2.3K) [text/plain]\n",
            "Saving to: ‘creds.json’\n",
            "\n",
            "creds.json          100%[===================>]   2.30K  --.-KB/s    in 0s      \n",
            "\n",
            "2025-02-10 03:28:11 (34.0 MB/s) - ‘creds.json’ saved [2358/2358]\n",
            "\n",
            "--2025-02-10 03:28:11--  https://gist.github.com/Vs8th/39c5deed0f5539d781f00328f7fd4fe0/raw/result.txt\n",
            "Resolving gist.github.com (gist.github.com)... 140.82.116.3\n",
            "Connecting to gist.github.com (gist.github.com)|140.82.116.3|:443... connected.\n",
            "HTTP request sent, awaiting response... 301 Moved Permanently\n",
            "Location: https://gist.githubusercontent.com/Vs8th/39c5deed0f5539d781f00328f7fd4fe0/raw/result.txt [following]\n",
            "--2025-02-10 03:28:11--  https://gist.githubusercontent.com/Vs8th/39c5deed0f5539d781f00328f7fd4fe0/raw/result.txt\n",
            "Resolving gist.githubusercontent.com (gist.githubusercontent.com)... 185.199.108.133, 185.199.109.133, 185.199.110.133, ...\n",
            "Connecting to gist.githubusercontent.com (gist.githubusercontent.com)|185.199.108.133|:443... connected.\n",
            "HTTP request sent, awaiting response... 200 OK\n",
            "Length: 198 [text/plain]\n",
            "Saving to: ‘result.txt’\n",
            "\n",
            "result.txt          100%[===================>]     198  --.-KB/s    in 0s      \n",
            "\n",
            "2025-02-10 03:28:12 (8.52 MB/s) - ‘result.txt’ saved [198/198]\n",
            "\n"
          ]
        }
      ],
      "source": [
        "!wget https://gist.github.com/Vs8th/d0bd4bdbbb58c8ae4f70a2a503e2d5fc/raw/creds.json\n",
        "\n",
        "!wget https://gist.github.com/Vs8th/39c5deed0f5539d781f00328f7fd4fe0/raw/result.txt"
      ]
    },
    {
      "cell_type": "markdown",
      "source": [
        "Чтобы посмотреть как выглядят сами гугл таблицы в оригинале - можете перейти по [ссылке](https://docs.google.com/spreadsheets/d/1hRnw-PEftF0J-6KY7InlILVwWdkJu4vJiGwRjuE_P4U/edit?usp=sharing) и изучить."
      ],
      "metadata": {
        "id": "4DrLBsjgxAEA"
      }
    },
    {
      "cell_type": "markdown",
      "source": [
        "Как примерно должен выглядеть результат:"
      ],
      "metadata": {
        "id": "DzT-pVSOxDKF"
      }
    },
    {
      "cell_type": "code",
      "source": [
        "with open('result.txt') as f:\n",
        "  print(f.read())"
      ],
      "metadata": {
        "id": "yvYYOXrBxChi",
        "colab": {
          "base_uri": "https://localhost:8080/"
        },
        "outputId": "e69f2850-e7d8-40f1-a7ef-c38e09d823a7"
      },
      "execution_count": null,
      "outputs": [
        {
          "output_type": "stream",
          "name": "stdout",
          "text": [
            "Студент Иванов У.У. - долг 100000 рублей\n",
            "Студент Петров Е.Е. - долг 250000 рублей\n",
            "Студент Сидоров И.И. - долг 10000 рублей\n"
          ]
        }
      ]
    },
    {
      "cell_type": "code",
      "source": [
        "#@title Если возникнут трудности с определением `scope`, подсказка:\n",
        "\n",
        "scope = ['https://www.googleapis.com/auth/spreadsheets.readonly',\n",
        "         'https://www.googleapis.com/auth/drive']"
      ],
      "metadata": {
        "id": "SOZfpY8OnJGl"
      },
      "execution_count": null,
      "outputs": []
    },
    {
      "cell_type": "markdown",
      "source": [
        "**Примечание**\n",
        "\n",
        "Считать должников необходимо на 1 марта 2023 года. То есть определяя количество просроченных платежей, мы определяем их количество не на настоящую дату, а на **1 марта 2023 года**. А периоды внесения платежей для всех студентов одинаковы - **6 месяцев** (183 дня).\n",
        "\n",
        "То есть, если ожидаемый платеж должен был пройти 3 февраля 2022 года, то к 1 марта 2023 студент просрочил уже три платежа (3 февраля 2022, 3 августа 2022 и 3 февраля 2023)."
      ],
      "metadata": {
        "id": "gJh58XYTk181"
      }
    },
    {
      "cell_type": "markdown",
      "source": [
        "**Решение**\n",
        "\n",
        "Напишите свое решение ниже"
      ],
      "metadata": {
        "id": "zvpm-3CmxH5l"
      }
    },
    {
      "cell_type": "code",
      "source": [
        "import gspread\n",
        "from oauth2client.service_account import ServiceAccountCredentials"
      ],
      "metadata": {
        "id": "RUM9aCwfyjso"
      },
      "execution_count": null,
      "outputs": []
    },
    {
      "cell_type": "code",
      "source": [
        "from datetime import datetime"
      ],
      "metadata": {
        "id": "m04h2fr91-uj"
      },
      "execution_count": null,
      "outputs": []
    },
    {
      "cell_type": "code",
      "source": [
        "# Указываем необходимые права доступа к таблицам\n",
        "scope = ['https://www.googleapis.com/auth/spreadsheets.readonly',\n",
        "         'https://www.googleapis.com/auth/drive']\n",
        "\n",
        "# Загружаем ключи аутентификации из файла json\n",
        "creds = ServiceAccountCredentials.from_json_keyfile_name('creds.json', scope)\n",
        "\n",
        "# Авторизуемся в Google Sheets API\n",
        "client = gspread.authorize(creds)\n"
      ],
      "metadata": {
        "id": "QG1l1QX9y06I"
      },
      "execution_count": null,
      "outputs": []
    },
    {
      "cell_type": "code",
      "source": [
        "sheet1 = client.open(\"Installments\").worksheet(\"Лист1\")\n",
        "# sheet1_data = sheet1.get_all_records()\n",
        "# print(sheet1_data)\n",
        "\n",
        "sheet2 = client.open(\"Installments\").worksheet(\"Лист2\")\n",
        "\n",
        "\n",
        "sheet3 = client.open(\"Installments\").worksheet(\"Лист3\")\n"
      ],
      "metadata": {
        "id": "g8dbq_53zbV_"
      },
      "execution_count": null,
      "outputs": []
    },
    {
      "cell_type": "code",
      "source": [
        "print(sheet2_data)"
      ],
      "metadata": {
        "colab": {
          "base_uri": "https://localhost:8080/"
        },
        "id": "ib7iC6Rc0Rb2",
        "outputId": "d1db0057-957c-45f8-c715-7f3bc648cba5"
      },
      "execution_count": null,
      "outputs": [
        {
          "output_type": "stream",
          "name": "stdout",
          "text": [
            "[{'student_id': 1, 'last_payment_date': '20.09.2022', 'expected_payment_date': '19.03.2023'}, {'student_id': 2, 'last_payment_date': '09.08.2022', 'expected_payment_date': '05.02.2023'}, {'student_id': 3, 'last_payment_date': '15.02.2022', 'expected_payment_date': '14.08.2022'}, {'student_id': 4, 'last_payment_date': '22.12.2022', 'expected_payment_date': '20.06.2023'}, {'student_id': 6, 'last_payment_date': '29.07.2022', 'expected_payment_date': '25.01.2023'}, {'student_id': 9, 'last_payment_date': '20.12.2022', 'expected_payment_date': '18.06.2023'}, {'student_id': 10, 'last_payment_date': '23.06.2022', 'expected_payment_date': '20.12.2022'}, {'student_id': 12, 'last_payment_date': '11.08.2022', 'expected_payment_date': '07.02.2023'}, {'student_id': 13, 'last_payment_date': '27.05.2022', 'expected_payment_date': '23.11.2022'}, {'student_id': 14, 'last_payment_date': '30.05.2022', 'expected_payment_date': '26.11.2022'}, {'student_id': 15, 'last_payment_date': '07.06.2022', 'expected_payment_date': '04.12.2022'}, {'student_id': 18, 'last_payment_date': '17.07.2022', 'expected_payment_date': '13.01.2023'}, {'student_id': 20, 'last_payment_date': '08.09.2022', 'expected_payment_date': '07.03.2023'}, {'student_id': 21, 'last_payment_date': '02.03.2022', 'expected_payment_date': '29.08.2022'}, {'student_id': 22, 'last_payment_date': '25.01.2022', 'expected_payment_date': '24.07.2022'}, {'student_id': 23, 'last_payment_date': '26.05.2022', 'expected_payment_date': '22.11.2022'}, {'student_id': 25, 'last_payment_date': '02.02.2022', 'expected_payment_date': '01.08.2022'}, {'student_id': 28, 'last_payment_date': '20.07.2022', 'expected_payment_date': '16.01.2023'}, {'student_id': 29, 'last_payment_date': '26.10.2022', 'expected_payment_date': '24.04.2023'}, {'student_id': 30, 'last_payment_date': '07.01.2022', 'expected_payment_date': '06.07.2022'}, {'student_id': 34, 'last_payment_date': '05.03.2022', 'expected_payment_date': '01.09.2022'}, {'student_id': 36, 'last_payment_date': '25.05.2022', 'expected_payment_date': '21.11.2022'}, {'student_id': 43, 'last_payment_date': '25.03.2022', 'expected_payment_date': '21.09.2022'}, {'student_id': 44, 'last_payment_date': '30.03.2022', 'expected_payment_date': '26.09.2022'}, {'student_id': 45, 'last_payment_date': '17.07.2022', 'expected_payment_date': '13.01.2023'}, {'student_id': 46, 'last_payment_date': '16.09.2022', 'expected_payment_date': '15.03.2023'}, {'student_id': 49, 'last_payment_date': '14.11.2022', 'expected_payment_date': '13.05.2023'}, {'student_id': 50, 'last_payment_date': '21.10.2022', 'expected_payment_date': '19.04.2023'}, {'student_id': 51, 'last_payment_date': '08.06.2022', 'expected_payment_date': '05.12.2022'}, {'student_id': 53, 'last_payment_date': '07.03.2022', 'expected_payment_date': '03.09.2022'}, {'student_id': 54, 'last_payment_date': '29.10.2022', 'expected_payment_date': '27.04.2023'}, {'student_id': 55, 'last_payment_date': '28.08.2022', 'expected_payment_date': '24.02.2023'}, {'student_id': 59, 'last_payment_date': '16.09.2022', 'expected_payment_date': '15.03.2023'}, {'student_id': 61, 'last_payment_date': '07.02.2022', 'expected_payment_date': '06.08.2022'}, {'student_id': 63, 'last_payment_date': '06.10.2022', 'expected_payment_date': '04.04.2023'}, {'student_id': 68, 'last_payment_date': '20.06.2022', 'expected_payment_date': '17.12.2022'}, {'student_id': 69, 'last_payment_date': '17.03.2022', 'expected_payment_date': '13.09.2022'}, {'student_id': 70, 'last_payment_date': '13.12.2022', 'expected_payment_date': '11.06.2023'}, {'student_id': 73, 'last_payment_date': '25.08.2022', 'expected_payment_date': '21.02.2023'}, {'student_id': 78, 'last_payment_date': '03.12.2022', 'expected_payment_date': '01.06.2023'}, {'student_id': 80, 'last_payment_date': '09.01.2022', 'expected_payment_date': '08.07.2022'}, {'student_id': 81, 'last_payment_date': '04.04.2022', 'expected_payment_date': '01.10.2022'}, {'student_id': 82, 'last_payment_date': '19.09.2022', 'expected_payment_date': '18.03.2023'}, {'student_id': 83, 'last_payment_date': '18.10.2022', 'expected_payment_date': '16.04.2023'}, {'student_id': 84, 'last_payment_date': '23.08.2022', 'expected_payment_date': '19.02.2023'}, {'student_id': 86, 'last_payment_date': '13.07.2022', 'expected_payment_date': '09.01.2023'}, {'student_id': 90, 'last_payment_date': '19.04.2022', 'expected_payment_date': '16.10.2022'}, {'student_id': 92, 'last_payment_date': '23.06.2022', 'expected_payment_date': '20.12.2022'}, {'student_id': 93, 'last_payment_date': '01.06.2022', 'expected_payment_date': '28.11.2022'}, {'student_id': 95, 'last_payment_date': '10.04.2022', 'expected_payment_date': '07.10.2022'}, {'student_id': 96, 'last_payment_date': '13.12.2022', 'expected_payment_date': '11.06.2023'}, {'student_id': 97, 'last_payment_date': '08.02.2022', 'expected_payment_date': '07.08.2022'}, {'student_id': 100, 'last_payment_date': '22.09.2022', 'expected_payment_date': '21.03.2023'}, {'student_id': 103, 'last_payment_date': '27.06.2022', 'expected_payment_date': '24.12.2022'}, {'student_id': 105, 'last_payment_date': '11.02.2022', 'expected_payment_date': '10.08.2022'}, {'student_id': 107, 'last_payment_date': '18.10.2022', 'expected_payment_date': '16.04.2023'}, {'student_id': 108, 'last_payment_date': '12.09.2022', 'expected_payment_date': '11.03.2023'}, {'student_id': 111, 'last_payment_date': '24.10.2022', 'expected_payment_date': '22.04.2023'}, {'student_id': 115, 'last_payment_date': '10.12.2022', 'expected_payment_date': '08.06.2023'}, {'student_id': 116, 'last_payment_date': '02.03.2022', 'expected_payment_date': '29.08.2022'}, {'student_id': 117, 'last_payment_date': '22.08.2022', 'expected_payment_date': '18.02.2023'}, {'student_id': 118, 'last_payment_date': '03.05.2022', 'expected_payment_date': '30.10.2022'}, {'student_id': 119, 'last_payment_date': '18.08.2022', 'expected_payment_date': '14.02.2023'}, {'student_id': 120, 'last_payment_date': '31.12.2022', 'expected_payment_date': '29.06.2023'}, {'student_id': 122, 'last_payment_date': '22.05.2022', 'expected_payment_date': '18.11.2022'}, {'student_id': 123, 'last_payment_date': '15.05.2022', 'expected_payment_date': '11.11.2022'}, {'student_id': 124, 'last_payment_date': '05.10.2022', 'expected_payment_date': '03.04.2023'}, {'student_id': 128, 'last_payment_date': '04.10.2022', 'expected_payment_date': '02.04.2023'}, {'student_id': 130, 'last_payment_date': '09.02.2022', 'expected_payment_date': '08.08.2022'}, {'student_id': 133, 'last_payment_date': '30.05.2022', 'expected_payment_date': '26.11.2022'}, {'student_id': 137, 'last_payment_date': '03.09.2022', 'expected_payment_date': '02.03.2023'}, {'student_id': 138, 'last_payment_date': '22.04.2022', 'expected_payment_date': '19.10.2022'}, {'student_id': 140, 'last_payment_date': '21.05.2022', 'expected_payment_date': '17.11.2022'}, {'student_id': 141, 'last_payment_date': '01.02.2022', 'expected_payment_date': '31.07.2022'}, {'student_id': 146, 'last_payment_date': '24.11.2022', 'expected_payment_date': '23.05.2023'}, {'student_id': 147, 'last_payment_date': '18.11.2022', 'expected_payment_date': '17.05.2023'}, {'student_id': 152, 'last_payment_date': '04.03.2022', 'expected_payment_date': '31.08.2022'}, {'student_id': 156, 'last_payment_date': '25.04.2022', 'expected_payment_date': '22.10.2022'}, {'student_id': 157, 'last_payment_date': '26.10.2022', 'expected_payment_date': '24.04.2023'}, {'student_id': 161, 'last_payment_date': '16.10.2022', 'expected_payment_date': '14.04.2023'}, {'student_id': 162, 'last_payment_date': '08.08.2022', 'expected_payment_date': '04.02.2023'}, {'student_id': 164, 'last_payment_date': '03.09.2022', 'expected_payment_date': '02.03.2023'}, {'student_id': 168, 'last_payment_date': '21.12.2022', 'expected_payment_date': '19.06.2023'}, {'student_id': 169, 'last_payment_date': '20.04.2022', 'expected_payment_date': '17.10.2022'}, {'student_id': 170, 'last_payment_date': '26.09.2022', 'expected_payment_date': '25.03.2023'}, {'student_id': 174, 'last_payment_date': '03.05.2022', 'expected_payment_date': '30.10.2022'}, {'student_id': 176, 'last_payment_date': '18.10.2022', 'expected_payment_date': '16.04.2023'}, {'student_id': 177, 'last_payment_date': '21.02.2022', 'expected_payment_date': '20.08.2022'}, {'student_id': 178, 'last_payment_date': '18.03.2022', 'expected_payment_date': '14.09.2022'}, {'student_id': 179, 'last_payment_date': '02.05.2022', 'expected_payment_date': '29.10.2022'}, {'student_id': 180, 'last_payment_date': '12.01.2022', 'expected_payment_date': '11.07.2022'}, {'student_id': 181, 'last_payment_date': '12.06.2022', 'expected_payment_date': '09.12.2022'}, {'student_id': 182, 'last_payment_date': '08.04.2022', 'expected_payment_date': '05.10.2022'}, {'student_id': 183, 'last_payment_date': '24.07.2022', 'expected_payment_date': '20.01.2023'}, {'student_id': 188, 'last_payment_date': '29.06.2022', 'expected_payment_date': '26.12.2022'}, {'student_id': 189, 'last_payment_date': '21.12.2022', 'expected_payment_date': '19.06.2023'}, {'student_id': 190, 'last_payment_date': '08.09.2022', 'expected_payment_date': '07.03.2023'}, {'student_id': 194, 'last_payment_date': '24.04.2022', 'expected_payment_date': '21.10.2022'}, {'student_id': 195, 'last_payment_date': '01.05.2022', 'expected_payment_date': '28.10.2022'}, {'student_id': 196, 'last_payment_date': '09.01.2022', 'expected_payment_date': '08.07.2022'}, {'student_id': 197, 'last_payment_date': '10.03.2022', 'expected_payment_date': '06.09.2022'}, {'student_id': 198, 'last_payment_date': '13.04.2022', 'expected_payment_date': '10.10.2022'}, {'student_id': 199, 'last_payment_date': '14.06.2022', 'expected_payment_date': '11.12.2022'}, {'student_id': 204, 'last_payment_date': '11.04.2022', 'expected_payment_date': '08.10.2022'}, {'student_id': 205, 'last_payment_date': '30.08.2022', 'expected_payment_date': '26.02.2023'}, {'student_id': 206, 'last_payment_date': '22.11.2022', 'expected_payment_date': '21.05.2023'}, {'student_id': 207, 'last_payment_date': '18.03.2022', 'expected_payment_date': '14.09.2022'}, {'student_id': 209, 'last_payment_date': '10.11.2022', 'expected_payment_date': '09.05.2023'}, {'student_id': 210, 'last_payment_date': '12.03.2022', 'expected_payment_date': '08.09.2022'}, {'student_id': 212, 'last_payment_date': '16.09.2022', 'expected_payment_date': '15.03.2023'}, {'student_id': 213, 'last_payment_date': '04.04.2022', 'expected_payment_date': '01.10.2022'}, {'student_id': 215, 'last_payment_date': '07.05.2022', 'expected_payment_date': '03.11.2022'}, {'student_id': 216, 'last_payment_date': '16.06.2022', 'expected_payment_date': '13.12.2022'}, {'student_id': 218, 'last_payment_date': '25.09.2022', 'expected_payment_date': '24.03.2023'}, {'student_id': 223, 'last_payment_date': '13.01.2022', 'expected_payment_date': '12.07.2022'}, {'student_id': 224, 'last_payment_date': '27.01.2022', 'expected_payment_date': '26.07.2022'}, {'student_id': 225, 'last_payment_date': '25.08.2022', 'expected_payment_date': '21.02.2023'}, {'student_id': 226, 'last_payment_date': '28.06.2022', 'expected_payment_date': '25.12.2022'}, {'student_id': 227, 'last_payment_date': '21.01.2022', 'expected_payment_date': '20.07.2022'}, {'student_id': 229, 'last_payment_date': '26.06.2022', 'expected_payment_date': '23.12.2022'}, {'student_id': 230, 'last_payment_date': '07.05.2022', 'expected_payment_date': '03.11.2022'}, {'student_id': 232, 'last_payment_date': '22.04.2022', 'expected_payment_date': '19.10.2022'}, {'student_id': 234, 'last_payment_date': '19.02.2022', 'expected_payment_date': '18.08.2022'}, {'student_id': 235, 'last_payment_date': '21.05.2022', 'expected_payment_date': '17.11.2022'}, {'student_id': 237, 'last_payment_date': '17.07.2022', 'expected_payment_date': '13.01.2023'}, {'student_id': 239, 'last_payment_date': '01.07.2022', 'expected_payment_date': '28.12.2022'}, {'student_id': 240, 'last_payment_date': '03.10.2022', 'expected_payment_date': '01.04.2023'}, {'student_id': 241, 'last_payment_date': '20.04.2022', 'expected_payment_date': '17.10.2022'}, {'student_id': 242, 'last_payment_date': '20.06.2022', 'expected_payment_date': '17.12.2022'}, {'student_id': 246, 'last_payment_date': '06.12.2022', 'expected_payment_date': '04.06.2023'}, {'student_id': 251, 'last_payment_date': '25.07.2022', 'expected_payment_date': '21.01.2023'}, {'student_id': 252, 'last_payment_date': '29.11.2022', 'expected_payment_date': '28.05.2023'}, {'student_id': 254, 'last_payment_date': '25.07.2022', 'expected_payment_date': '21.01.2023'}, {'student_id': 257, 'last_payment_date': '14.09.2022', 'expected_payment_date': '13.03.2023'}, {'student_id': 259, 'last_payment_date': '22.05.2022', 'expected_payment_date': '18.11.2022'}, {'student_id': 260, 'last_payment_date': '12.11.2022', 'expected_payment_date': '11.05.2023'}, {'student_id': 266, 'last_payment_date': '05.11.2022', 'expected_payment_date': '04.05.2023'}, {'student_id': 267, 'last_payment_date': '18.01.2022', 'expected_payment_date': '17.07.2022'}, {'student_id': 272, 'last_payment_date': '18.03.2022', 'expected_payment_date': '14.09.2022'}, {'student_id': 273, 'last_payment_date': '28.09.2022', 'expected_payment_date': '27.03.2023'}, {'student_id': 274, 'last_payment_date': '19.10.2022', 'expected_payment_date': '17.04.2023'}, {'student_id': 280, 'last_payment_date': '06.04.2022', 'expected_payment_date': '03.10.2022'}, {'student_id': 282, 'last_payment_date': '02.06.2022', 'expected_payment_date': '29.11.2022'}, {'student_id': 283, 'last_payment_date': '06.09.2022', 'expected_payment_date': '05.03.2023'}, {'student_id': 287, 'last_payment_date': '22.05.2022', 'expected_payment_date': '18.11.2022'}, {'student_id': 290, 'last_payment_date': '11.09.2022', 'expected_payment_date': '10.03.2023'}, {'student_id': 294, 'last_payment_date': '30.03.2022', 'expected_payment_date': '26.09.2022'}, {'student_id': 295, 'last_payment_date': '22.11.2022', 'expected_payment_date': '21.05.2023'}, {'student_id': 297, 'last_payment_date': '27.10.2022', 'expected_payment_date': '25.04.2023'}, {'student_id': 298, 'last_payment_date': '01.02.2022', 'expected_payment_date': '31.07.2022'}, {'student_id': 300, 'last_payment_date': '14.08.2022', 'expected_payment_date': '10.02.2023'}, {'student_id': 301, 'last_payment_date': '16.06.2022', 'expected_payment_date': '13.12.2022'}, {'student_id': 302, 'last_payment_date': '31.12.2022', 'expected_payment_date': '29.06.2023'}, {'student_id': 308, 'last_payment_date': '24.05.2022', 'expected_payment_date': '20.11.2022'}, {'student_id': 309, 'last_payment_date': '26.11.2022', 'expected_payment_date': '25.05.2023'}, {'student_id': 311, 'last_payment_date': '10.10.2022', 'expected_payment_date': '08.04.2023'}, {'student_id': 313, 'last_payment_date': '31.08.2022', 'expected_payment_date': '27.02.2023'}, {'student_id': 314, 'last_payment_date': '25.12.2022', 'expected_payment_date': '23.06.2023'}, {'student_id': 317, 'last_payment_date': '09.08.2022', 'expected_payment_date': '05.02.2023'}, {'student_id': 319, 'last_payment_date': '12.03.2022', 'expected_payment_date': '08.09.2022'}, {'student_id': 320, 'last_payment_date': '30.09.2022', 'expected_payment_date': '29.03.2023'}, {'student_id': 321, 'last_payment_date': '02.10.2022', 'expected_payment_date': '31.03.2023'}, {'student_id': 324, 'last_payment_date': '28.01.2022', 'expected_payment_date': '27.07.2022'}, {'student_id': 325, 'last_payment_date': '24.10.2022', 'expected_payment_date': '22.04.2023'}, {'student_id': 326, 'last_payment_date': '25.08.2022', 'expected_payment_date': '21.02.2023'}, {'student_id': 330, 'last_payment_date': '19.04.2022', 'expected_payment_date': '16.10.2022'}, {'student_id': 332, 'last_payment_date': '24.05.2022', 'expected_payment_date': '20.11.2022'}, {'student_id': 333, 'last_payment_date': '27.06.2022', 'expected_payment_date': '24.12.2022'}, {'student_id': 334, 'last_payment_date': '11.04.2022', 'expected_payment_date': '08.10.2022'}, {'student_id': 335, 'last_payment_date': '04.09.2022', 'expected_payment_date': '03.03.2023'}, {'student_id': 336, 'last_payment_date': '27.01.2022', 'expected_payment_date': '26.07.2022'}, {'student_id': 339, 'last_payment_date': '18.09.2022', 'expected_payment_date': '17.03.2023'}, {'student_id': 340, 'last_payment_date': '06.09.2022', 'expected_payment_date': '05.03.2023'}, {'student_id': 344, 'last_payment_date': '17.07.2022', 'expected_payment_date': '13.01.2023'}, {'student_id': 347, 'last_payment_date': '20.09.2022', 'expected_payment_date': '19.03.2023'}, {'student_id': 350, 'last_payment_date': '10.09.2022', 'expected_payment_date': '09.03.2023'}, {'student_id': 351, 'last_payment_date': '11.02.2022', 'expected_payment_date': '10.08.2022'}, {'student_id': 353, 'last_payment_date': '11.08.2022', 'expected_payment_date': '07.02.2023'}, {'student_id': 355, 'last_payment_date': '15.09.2022', 'expected_payment_date': '14.03.2023'}, {'student_id': 357, 'last_payment_date': '15.03.2022', 'expected_payment_date': '11.09.2022'}, {'student_id': 358, 'last_payment_date': '25.06.2022', 'expected_payment_date': '22.12.2022'}, {'student_id': 364, 'last_payment_date': '03.11.2022', 'expected_payment_date': '02.05.2023'}, {'student_id': 365, 'last_payment_date': '28.04.2022', 'expected_payment_date': '25.10.2022'}, {'student_id': 367, 'last_payment_date': '12.11.2022', 'expected_payment_date': '11.05.2023'}, {'student_id': 370, 'last_payment_date': '16.10.2022', 'expected_payment_date': '14.04.2023'}, {'student_id': 371, 'last_payment_date': '23.01.2022', 'expected_payment_date': '22.07.2022'}, {'student_id': 372, 'last_payment_date': '14.04.2022', 'expected_payment_date': '11.10.2022'}, {'student_id': 373, 'last_payment_date': '10.08.2022', 'expected_payment_date': '06.02.2023'}, {'student_id': 375, 'last_payment_date': '02.04.2022', 'expected_payment_date': '29.09.2022'}, {'student_id': 376, 'last_payment_date': '27.05.2022', 'expected_payment_date': '23.11.2022'}, {'student_id': 377, 'last_payment_date': '24.07.2022', 'expected_payment_date': '20.01.2023'}, {'student_id': 379, 'last_payment_date': '07.06.2022', 'expected_payment_date': '04.12.2022'}, {'student_id': 380, 'last_payment_date': '08.02.2022', 'expected_payment_date': '07.08.2022'}, {'student_id': 381, 'last_payment_date': '18.05.2022', 'expected_payment_date': '14.11.2022'}, {'student_id': 383, 'last_payment_date': '14.11.2022', 'expected_payment_date': '13.05.2023'}, {'student_id': 385, 'last_payment_date': '23.01.2022', 'expected_payment_date': '22.07.2022'}, {'student_id': 388, 'last_payment_date': '04.12.2022', 'expected_payment_date': '02.06.2023'}, {'student_id': 389, 'last_payment_date': '15.11.2022', 'expected_payment_date': '14.05.2023'}, {'student_id': 390, 'last_payment_date': '23.05.2022', 'expected_payment_date': '19.11.2022'}, {'student_id': 391, 'last_payment_date': '24.03.2022', 'expected_payment_date': '20.09.2022'}, {'student_id': 392, 'last_payment_date': '28.04.2022', 'expected_payment_date': '25.10.2022'}, {'student_id': 394, 'last_payment_date': '15.08.2022', 'expected_payment_date': '11.02.2023'}, {'student_id': 396, 'last_payment_date': '25.05.2022', 'expected_payment_date': '21.11.2022'}, {'student_id': 398, 'last_payment_date': '08.06.2022', 'expected_payment_date': '05.12.2022'}, {'student_id': 400, 'last_payment_date': '15.08.2022', 'expected_payment_date': '11.02.2023'}, {'student_id': 406, 'last_payment_date': '26.05.2022', 'expected_payment_date': '26.11.2022'}, {'student_id': 407, 'last_payment_date': '07.12.2022', 'expected_payment_date': '07.06.2023'}, {'student_id': 408, 'last_payment_date': '02.04.2022', 'expected_payment_date': '02.10.2022'}, {'student_id': 409, 'last_payment_date': '26.04.2022', 'expected_payment_date': '23.10.2022'}, {'student_id': 411, 'last_payment_date': '11.12.2022', 'expected_payment_date': '11.06.2023'}, {'student_id': 413, 'last_payment_date': '22.07.2022', 'expected_payment_date': '22.01.2023'}, {'student_id': 415, 'last_payment_date': '06.09.2022', 'expected_payment_date': '06.03.2023'}, {'student_id': 416, 'last_payment_date': '11.10.2022', 'expected_payment_date': '09.04.2023'}, {'student_id': 419, 'last_payment_date': '08.10.2022', 'expected_payment_date': '06.04.2023'}, {'student_id': 420, 'last_payment_date': '14.07.2022', 'expected_payment_date': '14.01.2023'}, {'student_id': 421, 'last_payment_date': '16.12.2022', 'expected_payment_date': '16.06.2023'}, {'student_id': 422, 'last_payment_date': '10.01.2022', 'expected_payment_date': '10.07.2022'}, {'student_id': 425, 'last_payment_date': '13.02.2022', 'expected_payment_date': '12.08.2022'}, {'student_id': 426, 'last_payment_date': '06.02.2022', 'expected_payment_date': '06.08.2022'}, {'student_id': 428, 'last_payment_date': '06.11.2022', 'expected_payment_date': '06.05.2023'}, {'student_id': 429, 'last_payment_date': '07.04.2022', 'expected_payment_date': '07.10.2022'}, {'student_id': 430, 'last_payment_date': '11.10.2022', 'expected_payment_date': '11.04.2023'}, {'student_id': 433, 'last_payment_date': '01.02.2022', 'expected_payment_date': '01.08.2022'}, {'student_id': 436, 'last_payment_date': '13.07.2022', 'expected_payment_date': '09.01.2023'}, {'student_id': 438, 'last_payment_date': '29.06.2022', 'expected_payment_date': '26.12.2022'}, {'student_id': 444, 'last_payment_date': '03.01.2022', 'expected_payment_date': '03.07.2022'}, {'student_id': 445, 'last_payment_date': '18.09.2022', 'expected_payment_date': '17.03.2023'}, {'student_id': 447, 'last_payment_date': '06.01.2022', 'expected_payment_date': '06.07.2022'}, {'student_id': 449, 'last_payment_date': '21.08.2022', 'expected_payment_date': '21.02.2023'}, {'student_id': 450, 'last_payment_date': '12.02.2022', 'expected_payment_date': '12.08.2022'}, {'student_id': 451, 'last_payment_date': '15.10.2022', 'expected_payment_date': '15.04.2023'}, {'student_id': 452, 'last_payment_date': '08.12.2022', 'expected_payment_date': '06.06.2023'}, {'student_id': 453, 'last_payment_date': '08.04.2022', 'expected_payment_date': '08.10.2022'}, {'student_id': 454, 'last_payment_date': '24.03.2022', 'expected_payment_date': '24.09.2022'}, {'student_id': 459, 'last_payment_date': '02.12.2022', 'expected_payment_date': '02.06.2023'}, {'student_id': 461, 'last_payment_date': '26.09.2022', 'expected_payment_date': '26.03.2023'}, {'student_id': 462, 'last_payment_date': '26.10.2022', 'expected_payment_date': '26.04.2023'}, {'student_id': 465, 'last_payment_date': '14.04.2022', 'expected_payment_date': '14.10.2022'}, {'student_id': 466, 'last_payment_date': '25.03.2022', 'expected_payment_date': '25.09.2022'}, {'student_id': 467, 'last_payment_date': '09.01.2022', 'expected_payment_date': '08.07.2022'}, {'student_id': 469, 'last_payment_date': '10.12.2022', 'expected_payment_date': '10.06.2023'}, {'student_id': 471, 'last_payment_date': '02.01.2022', 'expected_payment_date': '02.07.2022'}, {'student_id': 472, 'last_payment_date': '15.04.2022', 'expected_payment_date': '15.10.2022'}, {'student_id': 473, 'last_payment_date': '05.06.2022', 'expected_payment_date': '02.12.2022'}, {'student_id': 474, 'last_payment_date': '06.01.2022', 'expected_payment_date': '06.07.2022'}, {'student_id': 480, 'last_payment_date': '17.07.2022', 'expected_payment_date': '17.01.2023'}, {'student_id': 482, 'last_payment_date': '23.09.2022', 'expected_payment_date': '22.03.2023'}, {'student_id': 483, 'last_payment_date': '12.06.2022', 'expected_payment_date': '12.12.2022'}, {'student_id': 490, 'last_payment_date': '02.06.2022', 'expected_payment_date': '02.12.2022'}, {'student_id': 493, 'last_payment_date': '30.09.2022', 'expected_payment_date': '29.03.2023'}, {'student_id': 494, 'last_payment_date': '12.02.2022', 'expected_payment_date': '12.08.2022'}, {'student_id': 495, 'last_payment_date': '29.04.2022', 'expected_payment_date': '29.10.2022'}, {'student_id': 499, 'last_payment_date': '12.04.2022', 'expected_payment_date': '12.10.2022'}]\n"
          ]
        }
      ]
    },
    {
      "cell_type": "code",
      "source": [
        "def generate_report(sheet1, sheet2, sheet3):\n",
        "  # Текущая дата\n",
        "  today = datetime.strptime('01.03.2023', \"%d.%m.%Y\")\n",
        "#  print(today)\n",
        "\n",
        "  # делаем списки из словарей из всех страниц\n",
        "  sheet1_data = sheet1.get_all_records()\n",
        "  sheet2_data = sheet2.get_all_records()\n",
        "  sheet3_data = sheet3.get_all_records()\n",
        "\n",
        "  # выбираем должников. Из второго списка выберем тех, у кого прошел срок платежа\n",
        "  have_overdue=[]\n",
        "  for el_dict in sheet2_data:\n",
        "    el_dict['overdue'] = (today - datetime.strptime(el_dict['expected_payment_date'], '%d.%m.%Y')).days\n",
        "    if el_dict['overdue']<=0:\n",
        "      continue\n",
        "    else:\n",
        "      have_overdue.append(el_dict)\n",
        " # print(have_overdue)\n",
        "\n",
        "  # джойним эти списки для определения имен и суммы просрочки\n",
        "  merged_dict = {}\n",
        "\n",
        "  # должники отправляются в список  merged_dict\n",
        "  for item in have_overdue:\n",
        "    student_id = item['student_id']\n",
        "    merged_dict[student_id] = item\n",
        "\n",
        "# Объединяем второй список\n",
        "  for item in sheet1_data:\n",
        "    student_id = item['student_id']\n",
        "    if student_id in merged_dict:\n",
        "      merged_dict[student_id].update(item)\n",
        "    else:\n",
        "      continue\n",
        "\n",
        "# Объединяем третий список\n",
        "  for item in sheet3_data:\n",
        "    student_id = item['student_id']\n",
        "    if student_id in merged_dict:\n",
        "      merged_dict[student_id].update(item)\n",
        "    else:\n",
        "      continue\n",
        "\n",
        "# Превращаем обратно в список\n",
        "  merged_list = list(merged_dict.values())\n",
        " # print(merged_list)\n",
        "\n",
        "  #расчет долга и запись в файл\n",
        "  with open(\"student_debt_report.txt\", \"w\") as f:\n",
        "    for index, el_dict in enumerate(merged_list):\n",
        "      el_dict['debt_calc'] = (el_dict['overdue'] // 183 + 1) * el_dict['one-time_payment']\n",
        "      if el_dict['debt_calc'] <= el_dict['left_to_pay']:\n",
        "        el_dict['debt'] = el_dict['debt_calc']\n",
        "      else:\n",
        "        el_dict['debt'] = el_dict['left_to_pay']\n",
        "  #  print(merged_list)\n",
        "\n",
        "\n",
        "      if index == len(merged_list) - 1:  # Если это последний элемент\n",
        "        f.write(f\"Студент {el_dict['student_name']} - долг {el_dict['debt']} рублей\")\n",
        "      else:\n",
        "        f.write(f\"Студент {el_dict['student_name']} - долг {el_dict['debt']} рублей\\n\")\n",
        "#    print(f\"Студент {el_dict['student_name']} - долг {el_dict['debt']} рублей\")\n",
        "\n",
        "\n",
        "generate_report(sheet1, sheet2, sheet3)"
      ],
      "metadata": {
        "id": "CFDewPXwxLoX"
      },
      "execution_count": null,
      "outputs": []
    },
    {
      "cell_type": "markdown",
      "source": [
        "-✏️ ✏️ ✏️-\n",
        "\n",
        "**Проверка**\n",
        "\n",
        "Чтобы проверить свое решение, запустите код в следующих ячейках"
      ],
      "metadata": {
        "id": "VSZxSfjWxeZr"
      }
    },
    {
      "cell_type": "code",
      "source": [
        "# Здесь будет скачиваться файл с эталонным ответом\n",
        "\n",
        "!wget https://gist.github.com/Vs8th/63832f093f4db8d8b251ba5d39571f3d/raw/student_debt.txt\n",
        "\n",
        "import pandas as pd\n",
        "\n",
        "user_answer = pd.read_csv('student_debt_report.txt')\n",
        "correct_answer = pd.read_csv('student_debt.txt')"
      ],
      "metadata": {
        "id": "nbDL6rllxe4X",
        "colab": {
          "base_uri": "https://localhost:8080/"
        },
        "outputId": "3d9c3fd5-d94a-48bb-ef10-8dc807733771"
      },
      "execution_count": null,
      "outputs": [
        {
          "output_type": "stream",
          "name": "stdout",
          "text": [
            "--2025-02-10 03:44:09--  https://gist.github.com/Vs8th/63832f093f4db8d8b251ba5d39571f3d/raw/student_debt.txt\n",
            "Resolving gist.github.com (gist.github.com)... 140.82.116.4\n",
            "Connecting to gist.github.com (gist.github.com)|140.82.116.4|:443... connected.\n",
            "HTTP request sent, awaiting response... 301 Moved Permanently\n",
            "Location: https://gist.githubusercontent.com/Vs8th/63832f093f4db8d8b251ba5d39571f3d/raw/student_debt.txt [following]\n",
            "--2025-02-10 03:44:09--  https://gist.githubusercontent.com/Vs8th/63832f093f4db8d8b251ba5d39571f3d/raw/student_debt.txt\n",
            "Resolving gist.githubusercontent.com (gist.githubusercontent.com)... 185.199.108.133, 185.199.109.133, 185.199.110.133, ...\n",
            "Connecting to gist.githubusercontent.com (gist.githubusercontent.com)|185.199.108.133|:443... connected.\n",
            "HTTP request sent, awaiting response... 200 OK\n",
            "Length: 11325 (11K) [text/plain]\n",
            "Saving to: ‘student_debt.txt.1’\n",
            "\n",
            "\rstudent_debt.txt.1    0%[                    ]       0  --.-KB/s               \rstudent_debt.txt.1  100%[===================>]  11.06K  --.-KB/s    in 0s      \n",
            "\n",
            "2025-02-10 03:44:10 (84.7 MB/s) - ‘student_debt.txt.1’ saved [11325/11325]\n",
            "\n"
          ]
        }
      ]
    },
    {
      "cell_type": "code",
      "source": [
        "try:\n",
        "  assert (user_answer == correct_answer).all().all(), 'Ответы не совпадают'\n",
        "  assert user_answer.columns.equals(correct_answer.columns), 'Названия столбцов не совпадают'\n",
        "except Exception as err:\n",
        "  raise AssertionError(f'При проверке возникла ошибка {repr(err)}')\n",
        "else:\n",
        "  print('Поздравляем, Вы справились и успешно прошли все проверки!!')"
      ],
      "metadata": {
        "id": "gMqsbz7Wxm-G",
        "colab": {
          "base_uri": "https://localhost:8080/"
        },
        "outputId": "5ae55394-be18-4b63-8be1-06ac330b282e"
      },
      "execution_count": null,
      "outputs": [
        {
          "output_type": "stream",
          "name": "stdout",
          "text": [
            "Поздравляем, Вы справились и успешно прошли все проверки!!\n"
          ]
        }
      ]
    }
  ]
}